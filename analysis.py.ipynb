{
 "cells": [
  {
   "cell_type": "code",
   "execution_count": 231,
   "id": "initial_id",
   "metadata": {
    "collapsed": true,
    "ExecuteTime": {
     "end_time": "2024-06-01T14:00:10.143385Z",
     "start_time": "2024-06-01T14:00:10.087632Z"
    }
   },
   "outputs": [
    {
     "name": "stdout",
     "output_type": "stream",
     "text": [
      "   Debt_to_Income_Ratio  FICO_Score  Request_Amount  Interest  Approval\n",
      "0                   0.0         397            1000       450         0\n",
      "1                   0.0         403             500       225         0\n",
      "2                   0.0         408            1000       450         0\n",
      "3                   0.0         408            2000       900         0\n",
      "4                   0.0         411            5000      2250         0\n"
     ]
    }
   ],
   "source": [
    "### Data import\n",
    "\n",
    "import pandas as pd\n",
    "\n",
    "# data = pd.read_csv('loans.csv', delimiter=';', decimal=',')\n",
    "data = pd.read_csv('loans.csv', delimiter=';', decimal=',')\n",
    "\n",
    "print(data.head())\n"
   ]
  },
  {
   "cell_type": "code",
   "execution_count": 232,
   "outputs": [
    {
     "name": "stdout",
     "output_type": "stream",
     "text": [
      "Seed: 304408\n"
     ]
    }
   ],
   "source": [
    "### Seed generation\n",
    "\n",
    "import numpy as np\n",
    "\n",
    "indexes = [\n",
    "    297058, 297059, 297090, 297061, 297062, 297063, 297064, 297065, 297066, 297067, 303927, 294721, 302918, 392018, 301893\n",
    "]\n",
    "\n",
    "seed = np.floor(np.mean(indexes)).astype(int)\n",
    "\n",
    "print('Seed: %d' % seed)\n"
   ],
   "metadata": {
    "collapsed": false,
    "ExecuteTime": {
     "end_time": "2024-06-01T14:00:10.577448Z",
     "start_time": "2024-06-01T14:00:10.561541Z"
    }
   },
   "id": "7496f5c76d811f1d"
  },
  {
   "cell_type": "code",
   "execution_count": 233,
   "outputs": [
    {
     "name": "stdout",
     "output_type": "stream",
     "text": [
      "<class 'pandas.core.frame.DataFrame'>\n",
      "RangeIndex: 150302 entries, 0 to 150301\n",
      "Data columns (total 5 columns):\n",
      " #   Column                Non-Null Count   Dtype  \n",
      "---  ------                --------------   -----  \n",
      " 0   Debt_to_Income_Ratio  150302 non-null  float64\n",
      " 1   FICO_Score            150302 non-null  int64  \n",
      " 2   Request_Amount        150302 non-null  int64  \n",
      " 3   Interest              150302 non-null  int64  \n",
      " 4   Approval              150302 non-null  int64  \n",
      "dtypes: float64(1), int64(4)\n",
      "memory usage: 5.7 MB\n"
     ]
    }
   ],
   "source": [
    "# Exploratory data analysis\n",
    "\n",
    "## Overall data information\n",
    "\n",
    "data.head()\n",
    "data.info()"
   ],
   "metadata": {
    "collapsed": false,
    "ExecuteTime": {
     "end_time": "2024-06-01T14:00:11.188077Z",
     "start_time": "2024-06-01T14:00:11.148512Z"
    }
   },
   "id": "c0e9c5c9c62a8cf9"
  },
  {
   "cell_type": "code",
   "execution_count": 234,
   "outputs": [
    {
     "data": {
      "text/plain": "Debt_to_Income_Ratio    0\nFICO_Score              0\nRequest_Amount          0\nInterest                0\nApproval                0\ndtype: int64"
     },
     "execution_count": 234,
     "metadata": {},
     "output_type": "execute_result"
    }
   ],
   "source": [
    "### Missing values check\n",
    "\n",
    "data.isnull().sum()"
   ],
   "metadata": {
    "collapsed": false,
    "ExecuteTime": {
     "end_time": "2024-06-01T14:00:12.282455Z",
     "start_time": "2024-06-01T14:00:12.249114Z"
    }
   },
   "id": "f0d3305f9a687410"
  },
  {
   "cell_type": "code",
   "execution_count": 349,
   "outputs": [
    {
     "data": {
      "text/plain": "                      Debt_to_Income_Ratio  FICO_Score  Request_Amount  \\\nDebt_to_Income_Ratio                   1.0         NaN             NaN   \nFICO_Score                             NaN    1.000000             NaN   \nRequest_Amount                         NaN         NaN             1.0   \nInterest                               NaN         NaN             1.0   \nApproval                               NaN    0.544305             NaN   \n\n                      Interest  Approval  \nDebt_to_Income_Ratio       NaN       NaN  \nFICO_Score                 NaN  0.544305  \nRequest_Amount             1.0       NaN  \nInterest                   1.0       NaN  \nApproval                   NaN  1.000000  ",
      "text/html": "<div>\n<style scoped>\n    .dataframe tbody tr th:only-of-type {\n        vertical-align: middle;\n    }\n\n    .dataframe tbody tr th {\n        vertical-align: top;\n    }\n\n    .dataframe thead th {\n        text-align: right;\n    }\n</style>\n<table border=\"1\" class=\"dataframe\">\n  <thead>\n    <tr style=\"text-align: right;\">\n      <th></th>\n      <th>Debt_to_Income_Ratio</th>\n      <th>FICO_Score</th>\n      <th>Request_Amount</th>\n      <th>Interest</th>\n      <th>Approval</th>\n    </tr>\n  </thead>\n  <tbody>\n    <tr>\n      <th>Debt_to_Income_Ratio</th>\n      <td>1.0</td>\n      <td>NaN</td>\n      <td>NaN</td>\n      <td>NaN</td>\n      <td>NaN</td>\n    </tr>\n    <tr>\n      <th>FICO_Score</th>\n      <td>NaN</td>\n      <td>1.000000</td>\n      <td>NaN</td>\n      <td>NaN</td>\n      <td>0.544305</td>\n    </tr>\n    <tr>\n      <th>Request_Amount</th>\n      <td>NaN</td>\n      <td>NaN</td>\n      <td>1.0</td>\n      <td>1.0</td>\n      <td>NaN</td>\n    </tr>\n    <tr>\n      <th>Interest</th>\n      <td>NaN</td>\n      <td>NaN</td>\n      <td>1.0</td>\n      <td>1.0</td>\n      <td>NaN</td>\n    </tr>\n    <tr>\n      <th>Approval</th>\n      <td>NaN</td>\n      <td>0.544305</td>\n      <td>NaN</td>\n      <td>NaN</td>\n      <td>1.000000</td>\n    </tr>\n  </tbody>\n</table>\n</div>"
     },
     "execution_count": 349,
     "metadata": {},
     "output_type": "execute_result"
    }
   ],
   "source": [
    "### Data correlation\n",
    "correlation = data.corr()\n",
    "correlation.where(lambda x: x > 0.5)"
   ],
   "metadata": {
    "collapsed": false,
    "ExecuteTime": {
     "end_time": "2024-06-01T16:49:27.495163Z",
     "start_time": "2024-06-01T16:49:27.452286Z"
    }
   },
   "id": "bc0b894ffeeaa249"
  },
  {
   "cell_type": "code",
   "execution_count": 354,
   "outputs": [
    {
     "data": {
      "text/plain": "                      Debt_to_Income_Ratio  FICO_Score  Request_Amount  \\\nDebt_to_Income_Ratio              1.000000    0.070586        0.129207   \nFICO_Score                        0.070586    1.000000        0.153920   \nRequest_Amount                    0.129207    0.153920        1.000000   \nInterest                          0.129207    0.153920        1.000000   \nApproval                          0.267921    0.544305        0.045903   \n\n                      Interest  Approval  \nDebt_to_Income_Ratio  0.129207  0.267921  \nFICO_Score            0.153920  0.544305  \nRequest_Amount        1.000000  0.045903  \nInterest              1.000000  0.045903  \nApproval              0.045903  1.000000  ",
      "text/html": "<div>\n<style scoped>\n    .dataframe tbody tr th:only-of-type {\n        vertical-align: middle;\n    }\n\n    .dataframe tbody tr th {\n        vertical-align: top;\n    }\n\n    .dataframe thead th {\n        text-align: right;\n    }\n</style>\n<table border=\"1\" class=\"dataframe\">\n  <thead>\n    <tr style=\"text-align: right;\">\n      <th></th>\n      <th>Debt_to_Income_Ratio</th>\n      <th>FICO_Score</th>\n      <th>Request_Amount</th>\n      <th>Interest</th>\n      <th>Approval</th>\n    </tr>\n  </thead>\n  <tbody>\n    <tr>\n      <th>Debt_to_Income_Ratio</th>\n      <td>1.000000</td>\n      <td>0.070586</td>\n      <td>0.129207</td>\n      <td>0.129207</td>\n      <td>0.267921</td>\n    </tr>\n    <tr>\n      <th>FICO_Score</th>\n      <td>0.070586</td>\n      <td>1.000000</td>\n      <td>0.153920</td>\n      <td>0.153920</td>\n      <td>0.544305</td>\n    </tr>\n    <tr>\n      <th>Request_Amount</th>\n      <td>0.129207</td>\n      <td>0.153920</td>\n      <td>1.000000</td>\n      <td>1.000000</td>\n      <td>0.045903</td>\n    </tr>\n    <tr>\n      <th>Interest</th>\n      <td>0.129207</td>\n      <td>0.153920</td>\n      <td>1.000000</td>\n      <td>1.000000</td>\n      <td>0.045903</td>\n    </tr>\n    <tr>\n      <th>Approval</th>\n      <td>0.267921</td>\n      <td>0.544305</td>\n      <td>0.045903</td>\n      <td>0.045903</td>\n      <td>1.000000</td>\n    </tr>\n  </tbody>\n</table>\n</div>"
     },
     "execution_count": 354,
     "metadata": {},
     "output_type": "execute_result"
    }
   ],
   "source": [
    "### Absolute correlation values\n",
    "\n",
    "correlation.abs()"
   ],
   "metadata": {
    "collapsed": false,
    "ExecuteTime": {
     "end_time": "2024-06-01T17:11:57.367740Z",
     "start_time": "2024-06-01T17:11:57.273822Z"
    }
   },
   "id": "686f388f763f0d37"
  },
  {
   "cell_type": "code",
   "execution_count": 449,
   "outputs": [
    {
     "data": {
      "text/plain": "Request_Amount  Interest    1.0\ndtype: float64"
     },
     "execution_count": 449,
     "metadata": {},
     "output_type": "execute_result"
    }
   ],
   "source": [
    "### Checking for Multicollinearity\n",
    "\n",
    "## Prepare mask for non-diagonal and close to 1.0 values\n",
    "mask = np.isclose(correlation, 1.0) & ~np.eye(correlation.shape[0], dtype=bool)\n",
    "\n",
    "# Apply mask to correlation matrix\n",
    "high_corr = correlation.where(mask)\n",
    "\n",
    "# Remove duplicates and drop NaN values\n",
    "high_corr.stack().drop_duplicates()\n"
   ],
   "metadata": {
    "collapsed": false,
    "ExecuteTime": {
     "end_time": "2024-06-01T19:56:43.952832Z",
     "start_time": "2024-06-01T19:56:43.863726Z"
    }
   },
   "id": "674e02ca9ca7eaf3"
  },
  {
   "cell_type": "code",
   "execution_count": 451,
   "outputs": [
    {
     "data": {
      "text/plain": "FICO_Score    0.544305\nName: Approval, dtype: float64"
     },
     "execution_count": 451,
     "metadata": {},
     "output_type": "execute_result"
    }
   ],
   "source": [
    "### Correlation values above 0.5 for 'Approval'\n",
    "\n",
    "correlation.drop(labels='Approval')['Approval'].abs().where(lambda x: x > 0.5).dropna()"
   ],
   "metadata": {
    "collapsed": false,
    "ExecuteTime": {
     "end_time": "2024-06-01T19:56:58.493212Z",
     "start_time": "2024-06-01T19:56:58.460514Z"
    }
   },
   "id": "412d18f1c8015c51"
  },
  {
   "cell_type": "markdown",
   "source": [
    "Model building"
   ],
   "metadata": {
    "collapsed": false
   },
   "id": "4dd29b2ae87db66b"
  },
  {
   "cell_type": "code",
   "execution_count": 513,
   "outputs": [
    {
     "name": "stdout",
     "output_type": "stream",
     "text": [
      "        Debt_to_Income_Ratio  FICO_Score  Request_Amount  Interest\n",
      "0                       0.00         397            1000       450\n",
      "1                       0.00         403             500       225\n",
      "2                       0.00         408            1000       450\n",
      "3                       0.00         408            2000       900\n",
      "4                       0.00         411            5000      2250\n",
      "...                      ...         ...             ...       ...\n",
      "150297                  0.38         709           19000      8550\n",
      "150298                  0.38         722           17000      7650\n",
      "150299                  0.38         747           11000      4950\n",
      "150300                  0.39         679           10000      4500\n",
      "150301                  0.39         769            7000      3150\n",
      "\n",
      "[150302 rows x 4 columns]\n"
     ]
    }
   ],
   "source": [
    "### Data split\n",
    "\n",
    "from sklearn.model_selection import train_test_split\n",
    "\n",
    "# X = data.drop(columns=['Approval', 'Debt_to_Income_Ratio', 'Interest', 'Request_Amount'])\n",
    "X = data.drop(columns=['Approval'])\n",
    "print(X)\n",
    "y = data['Approval']\n",
    "\n",
    "X_train, X_test, y_train, y_test = train_test_split(X, y, test_size=0.3, random_state=seed, shuffle=True, stratify=y)"
   ],
   "metadata": {
    "collapsed": false,
    "ExecuteTime": {
     "end_time": "2024-06-01T20:14:25.321057Z",
     "start_time": "2024-06-01T20:14:25.277549Z"
    }
   },
   "id": "7ea0a38b5063965"
  },
  {
   "cell_type": "code",
   "execution_count": 514,
   "outputs": [
    {
     "name": "stdout",
     "output_type": "stream",
     "text": [
      "Train set: 105211 Test set: 45091\n",
      "Approval in train set: Approval\n",
      "1    0.500566\n",
      "0    0.499434\n",
      "Name: proportion, dtype: float64\n",
      "Approval in test set: Approval\n",
      "1    0.500566\n",
      "0    0.499434\n",
      "Name: proportion, dtype: float64\n"
     ]
    }
   ],
   "source": [
    "### Data split check\n",
    "\n",
    "print(f'Train set: {len(X_train)}', f'Test set: {len(X_test)}')\n",
    "\n",
    "print(f'Approval in train set: {y_train.value_counts(normalize=True)}')\n",
    "print(f'Approval in test set: {y_test.value_counts(normalize=True)}')"
   ],
   "metadata": {
    "collapsed": false,
    "ExecuteTime": {
     "end_time": "2024-06-01T20:14:26.420848Z",
     "start_time": "2024-06-01T20:14:26.405177Z"
    }
   },
   "id": "92be7443b1c18a55"
  },
  {
   "cell_type": "code",
   "execution_count": 515,
   "outputs": [],
   "source": [
    "### Data transformation for KMeans\n",
    "\n",
    "## Prepare scaler\n",
    "from sklearn.preprocessing import MinMaxScaler\n",
    "\n",
    "scaler = MinMaxScaler(feature_range=(-1, 1))\n",
    "scaler.set_output(transform='pandas')\n",
    "\n",
    "## Transform data\n",
    "X_train_scaled = scaler.fit_transform(X_train)"
   ],
   "metadata": {
    "collapsed": false,
    "ExecuteTime": {
     "end_time": "2024-06-01T20:14:27.685817Z",
     "start_time": "2024-06-01T20:14:27.669083Z"
    }
   },
   "id": "a1acb3b74bae8d8c"
  },
  {
   "cell_type": "code",
   "execution_count": 516,
   "outputs": [],
   "source": [
    "### Transformation of test data using already fitted scaler\n",
    "X_test_scaled = scaler.transform(X_test)"
   ],
   "metadata": {
    "collapsed": false,
    "ExecuteTime": {
     "end_time": "2024-06-01T20:14:28.277315Z",
     "start_time": "2024-06-01T20:14:28.262962Z"
    }
   },
   "id": "35624a1512039497"
  },
  {
   "cell_type": "code",
   "execution_count": 517,
   "outputs": [
    {
     "data": {
      "text/plain": "KNeighborsClassifier(n_jobs=-1)",
      "text/html": "<style>#sk-container-id-12 {\n  /* Definition of color scheme common for light and dark mode */\n  --sklearn-color-text: black;\n  --sklearn-color-line: gray;\n  /* Definition of color scheme for unfitted estimators */\n  --sklearn-color-unfitted-level-0: #fff5e6;\n  --sklearn-color-unfitted-level-1: #f6e4d2;\n  --sklearn-color-unfitted-level-2: #ffe0b3;\n  --sklearn-color-unfitted-level-3: chocolate;\n  /* Definition of color scheme for fitted estimators */\n  --sklearn-color-fitted-level-0: #f0f8ff;\n  --sklearn-color-fitted-level-1: #d4ebff;\n  --sklearn-color-fitted-level-2: #b3dbfd;\n  --sklearn-color-fitted-level-3: cornflowerblue;\n\n  /* Specific color for light theme */\n  --sklearn-color-text-on-default-background: var(--sg-text-color, var(--theme-code-foreground, var(--jp-content-font-color1, black)));\n  --sklearn-color-background: var(--sg-background-color, var(--theme-background, var(--jp-layout-color0, white)));\n  --sklearn-color-border-box: var(--sg-text-color, var(--theme-code-foreground, var(--jp-content-font-color1, black)));\n  --sklearn-color-icon: #696969;\n\n  @media (prefers-color-scheme: dark) {\n    /* Redefinition of color scheme for dark theme */\n    --sklearn-color-text-on-default-background: var(--sg-text-color, var(--theme-code-foreground, var(--jp-content-font-color1, white)));\n    --sklearn-color-background: var(--sg-background-color, var(--theme-background, var(--jp-layout-color0, #111)));\n    --sklearn-color-border-box: var(--sg-text-color, var(--theme-code-foreground, var(--jp-content-font-color1, white)));\n    --sklearn-color-icon: #878787;\n  }\n}\n\n#sk-container-id-12 {\n  color: var(--sklearn-color-text);\n}\n\n#sk-container-id-12 pre {\n  padding: 0;\n}\n\n#sk-container-id-12 input.sk-hidden--visually {\n  border: 0;\n  clip: rect(1px 1px 1px 1px);\n  clip: rect(1px, 1px, 1px, 1px);\n  height: 1px;\n  margin: -1px;\n  overflow: hidden;\n  padding: 0;\n  position: absolute;\n  width: 1px;\n}\n\n#sk-container-id-12 div.sk-dashed-wrapped {\n  border: 1px dashed var(--sklearn-color-line);\n  margin: 0 0.4em 0.5em 0.4em;\n  box-sizing: border-box;\n  padding-bottom: 0.4em;\n  background-color: var(--sklearn-color-background);\n}\n\n#sk-container-id-12 div.sk-container {\n  /* jupyter's `normalize.less` sets `[hidden] { display: none; }`\n     but bootstrap.min.css set `[hidden] { display: none !important; }`\n     so we also need the `!important` here to be able to override the\n     default hidden behavior on the sphinx rendered scikit-learn.org.\n     See: https://github.com/scikit-learn/scikit-learn/issues/21755 */\n  display: inline-block !important;\n  position: relative;\n}\n\n#sk-container-id-12 div.sk-text-repr-fallback {\n  display: none;\n}\n\ndiv.sk-parallel-item,\ndiv.sk-serial,\ndiv.sk-item {\n  /* draw centered vertical line to link estimators */\n  background-image: linear-gradient(var(--sklearn-color-text-on-default-background), var(--sklearn-color-text-on-default-background));\n  background-size: 2px 100%;\n  background-repeat: no-repeat;\n  background-position: center center;\n}\n\n/* Parallel-specific style estimator block */\n\n#sk-container-id-12 div.sk-parallel-item::after {\n  content: \"\";\n  width: 100%;\n  border-bottom: 2px solid var(--sklearn-color-text-on-default-background);\n  flex-grow: 1;\n}\n\n#sk-container-id-12 div.sk-parallel {\n  display: flex;\n  align-items: stretch;\n  justify-content: center;\n  background-color: var(--sklearn-color-background);\n  position: relative;\n}\n\n#sk-container-id-12 div.sk-parallel-item {\n  display: flex;\n  flex-direction: column;\n}\n\n#sk-container-id-12 div.sk-parallel-item:first-child::after {\n  align-self: flex-end;\n  width: 50%;\n}\n\n#sk-container-id-12 div.sk-parallel-item:last-child::after {\n  align-self: flex-start;\n  width: 50%;\n}\n\n#sk-container-id-12 div.sk-parallel-item:only-child::after {\n  width: 0;\n}\n\n/* Serial-specific style estimator block */\n\n#sk-container-id-12 div.sk-serial {\n  display: flex;\n  flex-direction: column;\n  align-items: center;\n  background-color: var(--sklearn-color-background);\n  padding-right: 1em;\n  padding-left: 1em;\n}\n\n\n/* Toggleable style: style used for estimator/Pipeline/ColumnTransformer box that is\nclickable and can be expanded/collapsed.\n- Pipeline and ColumnTransformer use this feature and define the default style\n- Estimators will overwrite some part of the style using the `sk-estimator` class\n*/\n\n/* Pipeline and ColumnTransformer style (default) */\n\n#sk-container-id-12 div.sk-toggleable {\n  /* Default theme specific background. It is overwritten whether we have a\n  specific estimator or a Pipeline/ColumnTransformer */\n  background-color: var(--sklearn-color-background);\n}\n\n/* Toggleable label */\n#sk-container-id-12 label.sk-toggleable__label {\n  cursor: pointer;\n  display: block;\n  width: 100%;\n  margin-bottom: 0;\n  padding: 0.5em;\n  box-sizing: border-box;\n  text-align: center;\n}\n\n#sk-container-id-12 label.sk-toggleable__label-arrow:before {\n  /* Arrow on the left of the label */\n  content: \"▸\";\n  float: left;\n  margin-right: 0.25em;\n  color: var(--sklearn-color-icon);\n}\n\n#sk-container-id-12 label.sk-toggleable__label-arrow:hover:before {\n  color: var(--sklearn-color-text);\n}\n\n/* Toggleable content - dropdown */\n\n#sk-container-id-12 div.sk-toggleable__content {\n  max-height: 0;\n  max-width: 0;\n  overflow: hidden;\n  text-align: left;\n  /* unfitted */\n  background-color: var(--sklearn-color-unfitted-level-0);\n}\n\n#sk-container-id-12 div.sk-toggleable__content.fitted {\n  /* fitted */\n  background-color: var(--sklearn-color-fitted-level-0);\n}\n\n#sk-container-id-12 div.sk-toggleable__content pre {\n  margin: 0.2em;\n  border-radius: 0.25em;\n  color: var(--sklearn-color-text);\n  /* unfitted */\n  background-color: var(--sklearn-color-unfitted-level-0);\n}\n\n#sk-container-id-12 div.sk-toggleable__content.fitted pre {\n  /* unfitted */\n  background-color: var(--sklearn-color-fitted-level-0);\n}\n\n#sk-container-id-12 input.sk-toggleable__control:checked~div.sk-toggleable__content {\n  /* Expand drop-down */\n  max-height: 200px;\n  max-width: 100%;\n  overflow: auto;\n}\n\n#sk-container-id-12 input.sk-toggleable__control:checked~label.sk-toggleable__label-arrow:before {\n  content: \"▾\";\n}\n\n/* Pipeline/ColumnTransformer-specific style */\n\n#sk-container-id-12 div.sk-label input.sk-toggleable__control:checked~label.sk-toggleable__label {\n  color: var(--sklearn-color-text);\n  background-color: var(--sklearn-color-unfitted-level-2);\n}\n\n#sk-container-id-12 div.sk-label.fitted input.sk-toggleable__control:checked~label.sk-toggleable__label {\n  background-color: var(--sklearn-color-fitted-level-2);\n}\n\n/* Estimator-specific style */\n\n/* Colorize estimator box */\n#sk-container-id-12 div.sk-estimator input.sk-toggleable__control:checked~label.sk-toggleable__label {\n  /* unfitted */\n  background-color: var(--sklearn-color-unfitted-level-2);\n}\n\n#sk-container-id-12 div.sk-estimator.fitted input.sk-toggleable__control:checked~label.sk-toggleable__label {\n  /* fitted */\n  background-color: var(--sklearn-color-fitted-level-2);\n}\n\n#sk-container-id-12 div.sk-label label.sk-toggleable__label,\n#sk-container-id-12 div.sk-label label {\n  /* The background is the default theme color */\n  color: var(--sklearn-color-text-on-default-background);\n}\n\n/* On hover, darken the color of the background */\n#sk-container-id-12 div.sk-label:hover label.sk-toggleable__label {\n  color: var(--sklearn-color-text);\n  background-color: var(--sklearn-color-unfitted-level-2);\n}\n\n/* Label box, darken color on hover, fitted */\n#sk-container-id-12 div.sk-label.fitted:hover label.sk-toggleable__label.fitted {\n  color: var(--sklearn-color-text);\n  background-color: var(--sklearn-color-fitted-level-2);\n}\n\n/* Estimator label */\n\n#sk-container-id-12 div.sk-label label {\n  font-family: monospace;\n  font-weight: bold;\n  display: inline-block;\n  line-height: 1.2em;\n}\n\n#sk-container-id-12 div.sk-label-container {\n  text-align: center;\n}\n\n/* Estimator-specific */\n#sk-container-id-12 div.sk-estimator {\n  font-family: monospace;\n  border: 1px dotted var(--sklearn-color-border-box);\n  border-radius: 0.25em;\n  box-sizing: border-box;\n  margin-bottom: 0.5em;\n  /* unfitted */\n  background-color: var(--sklearn-color-unfitted-level-0);\n}\n\n#sk-container-id-12 div.sk-estimator.fitted {\n  /* fitted */\n  background-color: var(--sklearn-color-fitted-level-0);\n}\n\n/* on hover */\n#sk-container-id-12 div.sk-estimator:hover {\n  /* unfitted */\n  background-color: var(--sklearn-color-unfitted-level-2);\n}\n\n#sk-container-id-12 div.sk-estimator.fitted:hover {\n  /* fitted */\n  background-color: var(--sklearn-color-fitted-level-2);\n}\n\n/* Specification for estimator info (e.g. \"i\" and \"?\") */\n\n/* Common style for \"i\" and \"?\" */\n\n.sk-estimator-doc-link,\na:link.sk-estimator-doc-link,\na:visited.sk-estimator-doc-link {\n  float: right;\n  font-size: smaller;\n  line-height: 1em;\n  font-family: monospace;\n  background-color: var(--sklearn-color-background);\n  border-radius: 1em;\n  height: 1em;\n  width: 1em;\n  text-decoration: none !important;\n  margin-left: 1ex;\n  /* unfitted */\n  border: var(--sklearn-color-unfitted-level-1) 1pt solid;\n  color: var(--sklearn-color-unfitted-level-1);\n}\n\n.sk-estimator-doc-link.fitted,\na:link.sk-estimator-doc-link.fitted,\na:visited.sk-estimator-doc-link.fitted {\n  /* fitted */\n  border: var(--sklearn-color-fitted-level-1) 1pt solid;\n  color: var(--sklearn-color-fitted-level-1);\n}\n\n/* On hover */\ndiv.sk-estimator:hover .sk-estimator-doc-link:hover,\n.sk-estimator-doc-link:hover,\ndiv.sk-label-container:hover .sk-estimator-doc-link:hover,\n.sk-estimator-doc-link:hover {\n  /* unfitted */\n  background-color: var(--sklearn-color-unfitted-level-3);\n  color: var(--sklearn-color-background);\n  text-decoration: none;\n}\n\ndiv.sk-estimator.fitted:hover .sk-estimator-doc-link.fitted:hover,\n.sk-estimator-doc-link.fitted:hover,\ndiv.sk-label-container:hover .sk-estimator-doc-link.fitted:hover,\n.sk-estimator-doc-link.fitted:hover {\n  /* fitted */\n  background-color: var(--sklearn-color-fitted-level-3);\n  color: var(--sklearn-color-background);\n  text-decoration: none;\n}\n\n/* Span, style for the box shown on hovering the info icon */\n.sk-estimator-doc-link span {\n  display: none;\n  z-index: 9999;\n  position: relative;\n  font-weight: normal;\n  right: .2ex;\n  padding: .5ex;\n  margin: .5ex;\n  width: min-content;\n  min-width: 20ex;\n  max-width: 50ex;\n  color: var(--sklearn-color-text);\n  box-shadow: 2pt 2pt 4pt #999;\n  /* unfitted */\n  background: var(--sklearn-color-unfitted-level-0);\n  border: .5pt solid var(--sklearn-color-unfitted-level-3);\n}\n\n.sk-estimator-doc-link.fitted span {\n  /* fitted */\n  background: var(--sklearn-color-fitted-level-0);\n  border: var(--sklearn-color-fitted-level-3);\n}\n\n.sk-estimator-doc-link:hover span {\n  display: block;\n}\n\n/* \"?\"-specific style due to the `<a>` HTML tag */\n\n#sk-container-id-12 a.estimator_doc_link {\n  float: right;\n  font-size: 1rem;\n  line-height: 1em;\n  font-family: monospace;\n  background-color: var(--sklearn-color-background);\n  border-radius: 1rem;\n  height: 1rem;\n  width: 1rem;\n  text-decoration: none;\n  /* unfitted */\n  color: var(--sklearn-color-unfitted-level-1);\n  border: var(--sklearn-color-unfitted-level-1) 1pt solid;\n}\n\n#sk-container-id-12 a.estimator_doc_link.fitted {\n  /* fitted */\n  border: var(--sklearn-color-fitted-level-1) 1pt solid;\n  color: var(--sklearn-color-fitted-level-1);\n}\n\n/* On hover */\n#sk-container-id-12 a.estimator_doc_link:hover {\n  /* unfitted */\n  background-color: var(--sklearn-color-unfitted-level-3);\n  color: var(--sklearn-color-background);\n  text-decoration: none;\n}\n\n#sk-container-id-12 a.estimator_doc_link.fitted:hover {\n  /* fitted */\n  background-color: var(--sklearn-color-fitted-level-3);\n}\n</style><div id=\"sk-container-id-12\" class=\"sk-top-container\"><div class=\"sk-text-repr-fallback\"><pre>KNeighborsClassifier(n_jobs=-1)</pre><b>In a Jupyter environment, please rerun this cell to show the HTML representation or trust the notebook. <br />On GitHub, the HTML representation is unable to render, please try loading this page with nbviewer.org.</b></div><div class=\"sk-container\" hidden><div class=\"sk-item\"><div class=\"sk-estimator fitted sk-toggleable\"><input class=\"sk-toggleable__control sk-hidden--visually\" id=\"sk-estimator-id-12\" type=\"checkbox\" checked><label for=\"sk-estimator-id-12\" class=\"sk-toggleable__label fitted sk-toggleable__label-arrow fitted\">&nbsp;&nbsp;KNeighborsClassifier<a class=\"sk-estimator-doc-link fitted\" rel=\"noreferrer\" target=\"_blank\" href=\"https://scikit-learn.org/1.5/modules/generated/sklearn.neighbors.KNeighborsClassifier.html\">?<span>Documentation for KNeighborsClassifier</span></a><span class=\"sk-estimator-doc-link fitted\">i<span>Fitted</span></span></label><div class=\"sk-toggleable__content fitted\"><pre>KNeighborsClassifier(n_jobs=-1)</pre></div> </div></div></div></div>"
     },
     "execution_count": 517,
     "metadata": {},
     "output_type": "execute_result"
    }
   ],
   "source": [
    "### Model training - KMeans\n",
    "\n",
    "from sklearn.neighbors import KNeighborsClassifier\n",
    "\n",
    "model = KNeighborsClassifier(n_neighbors=5, n_jobs=-1)\n",
    "model.fit(X_train_scaled, y_train)"
   ],
   "metadata": {
    "collapsed": false,
    "ExecuteTime": {
     "end_time": "2024-06-01T20:14:28.984522Z",
     "start_time": "2024-06-01T20:14:28.860854Z"
    }
   },
   "id": "2134ee8811a1950a"
  },
  {
   "cell_type": "code",
   "execution_count": 518,
   "outputs": [
    {
     "name": "stdout",
     "output_type": "stream",
     "text": [
      "[[43139  9407]\n",
      " [ 3781 48884]]\n"
     ]
    },
    {
     "data": {
      "text/plain": "<Figure size 640x480 with 2 Axes>",
      "image/png": "[encoded data removed]"
     },
     "metadata": {},
     "output_type": "display_data"
    }
   ],
   "source": [
    "### Model evaluation on training data - Confusion matrix\n",
    "\n",
    "from sklearn.metrics import confusion_matrix, ConfusionMatrixDisplay\n",
    "\n",
    "y_train_pred = model.predict(X_train_scaled)\n",
    "disp = ConfusionMatrixDisplay(confusion_matrix(y_train, y_train_pred), display_labels=['Rejection', 'Approval'])\n",
    "disp.plot(cmap='Blues')\n",
    "print(confusion_matrix(y_train, y_train_pred))\n"
   ],
   "metadata": {
    "collapsed": false,
    "ExecuteTime": {
     "end_time": "2024-06-01T20:14:31.942993Z",
     "start_time": "2024-06-01T20:14:30.309118Z"
    }
   },
   "id": "cefa3011e83a22a"
  },
  {
   "cell_type": "code",
   "execution_count": 519,
   "outputs": [
    {
     "name": "stdout",
     "output_type": "stream",
     "text": [
      "0.8746518900115007 0.8746518900115007\n"
     ]
    }
   ],
   "source": [
    "### Comparison of sklearn confusion_matrix and score functions\n",
    "\n",
    "from sklearn.metrics import accuracy_score\n",
    "\n",
    "print(accuracy_score(y_train, y_train_pred), model.score(X_train_scaled, y_train))"
   ],
   "metadata": {
    "collapsed": false,
    "ExecuteTime": {
     "end_time": "2024-06-01T20:14:35.360638Z",
     "start_time": "2024-06-01T20:14:33.795906Z"
    }
   },
   "id": "bf9e027d5325e209"
  },
  {
   "cell_type": "code",
   "execution_count": 520,
   "outputs": [
    {
     "name": "stdout",
     "output_type": "stream",
     "text": [
      "[[17507  5013]\n",
      " [ 2579 19992]]\n"
     ]
    },
    {
     "data": {
      "text/plain": "<Figure size 640x480 with 2 Axes>",
      "image/png": "[encoded data removed]"
     },
     "metadata": {},
     "output_type": "display_data"
    }
   ],
   "source": [
    "### Model evaluation on test data - Confusion matrix\n",
    "\n",
    "from sklearn.metrics import confusion_matrix, ConfusionMatrixDisplay\n",
    "\n",
    "y_test_pred = model.predict(X_test_scaled)\n",
    "disp = ConfusionMatrixDisplay(confusion_matrix(y_test, y_test_pred), display_labels=['Rejection', 'Approval'])\n",
    "disp.plot(cmap='Blues')\n",
    "print(confusion_matrix(y_test, y_test_pred))\n"
   ],
   "metadata": {
    "collapsed": false,
    "ExecuteTime": {
     "end_time": "2024-06-01T20:14:37.098695Z",
     "start_time": "2024-06-01T20:14:36.236401Z"
    }
   },
   "id": "ce888f98d25f360d"
  },
  {
   "cell_type": "code",
   "execution_count": 521,
   "outputs": [
    {
     "data": {
      "text/plain": "0.8316293717149764"
     },
     "execution_count": 521,
     "metadata": {},
     "output_type": "execute_result"
    }
   ],
   "source": [
    "### Comparison of sklearn confusion_matrix and score functions\n",
    "\n",
    "from sklearn.metrics import accuracy_score\n",
    "\n",
    "accuracy_score(y_test, y_test_pred)"
   ],
   "metadata": {
    "collapsed": false,
    "ExecuteTime": {
     "end_time": "2024-06-01T20:14:38.164620Z",
     "start_time": "2024-06-01T20:14:38.144332Z"
    }
   },
   "id": "d690307eebe05f19"
  },
  {
   "cell_type": "code",
   "execution_count": 522,
   "outputs": [],
   "source": [
    "def ocen_model_klasyfikacji_binarnej(y_true, y_pred, digits = 2):\n",
    "    tn, fp, fn, tp = confusion_matrix(y_true, y_pred).ravel()\n",
    "    accuracy = (tn+tp)/(tn+fp+fn+tp)\n",
    "    overall_error_rate = 1 - accuracy\n",
    "    sensitivity = tp/(fn+tp)\n",
    "    fnr = fn/(fn+tp)\n",
    "    specificity = tn/(tn+fp)\n",
    "    fpr = fp/(tn+fp)\n",
    "    precision = tp/(fp+tp)\n",
    "    f1 = (2 * sensitivity * precision) / (sensitivity + precision)\n",
    "    print('Trafność: ', round(accuracy, digits))\n",
    "    print('Całkowity współczynnik błędu', round(overall_error_rate, digits))\n",
    "    print('Czułość: ', round(sensitivity, digits))\n",
    "    print('Wskaźnik fałszywie negatywnych: ', round(fnr, digits))\n",
    "    print('Specyficzność: ', round(specificity, digits))\n",
    "    print('Wskaźnik fałszywie pozytywnych: ', round(fpr, digits))\n",
    "    print('Precyzja: ', round(precision, digits))\n",
    "    print('Wynik F1: ', round(f1, digits))"
   ],
   "metadata": {
    "collapsed": false,
    "ExecuteTime": {
     "end_time": "2024-06-01T20:14:40.000499Z",
     "start_time": "2024-06-01T20:14:39.947623Z"
    }
   },
   "id": "90fb8a03138aa5f1"
  },
  {
   "cell_type": "code",
   "execution_count": 523,
   "outputs": [
    {
     "name": "stdout",
     "output_type": "stream",
     "text": [
      "Train set metrics:\n",
      "Trafność:  0.87\n",
      "Całkowity współczynnik błędu 0.13\n",
      "Czułość:  0.93\n",
      "Wskaźnik fałszywie negatywnych:  0.07\n",
      "Specyficzność:  0.82\n",
      "Wskaźnik fałszywie pozytywnych:  0.18\n",
      "Precyzja:  0.84\n",
      "Wynik F1:  0.88\n"
     ]
    }
   ],
   "source": [
    "print('Train set metrics:')\n",
    "ocen_model_klasyfikacji_binarnej(y_train, y_train_pred)"
   ],
   "metadata": {
    "collapsed": false,
    "ExecuteTime": {
     "end_time": "2024-06-01T20:14:41.156903Z",
     "start_time": "2024-06-01T20:14:41.128329Z"
    }
   },
   "id": "30db037b94afb8a0"
  },
  {
   "cell_type": "code",
   "execution_count": 524,
   "outputs": [
    {
     "name": "stdout",
     "output_type": "stream",
     "text": [
      "Test set metrics:\n",
      "Trafność:  0.83\n",
      "Całkowity współczynnik błędu 0.17\n",
      "Czułość:  0.89\n",
      "Wskaźnik fałszywie negatywnych:  0.11\n",
      "Specyficzność:  0.78\n",
      "Wskaźnik fałszywie pozytywnych:  0.22\n",
      "Precyzja:  0.8\n",
      "Wynik F1:  0.84\n"
     ]
    }
   ],
   "source": [
    "print('Test set metrics:')\n",
    "ocen_model_klasyfikacji_binarnej(y_test, y_test_pred)"
   ],
   "metadata": {
    "collapsed": false,
    "ExecuteTime": {
     "end_time": "2024-06-01T20:14:42.393235Z",
     "start_time": "2024-06-01T20:14:42.364428Z"
    }
   },
   "id": "392b17f93cb8fbb2"
  },
  {
   "cell_type": "code",
   "execution_count": null,
   "outputs": [],
   "source": [],
   "metadata": {
    "collapsed": false
   },
   "id": "4000d31b8c751dc3"
  }
 ],
 "metadata": {
  "kernelspec": {
   "display_name": "Python 3",
   "language": "python",
   "name": "python3"
  },
  "language_info": {
   "codemirror_mode": {
    "name": "ipython",
    "version": 2
   },
   "file_extension": ".py",
   "mimetype": "text/x-python",
   "name": "python",
   "nbconvert_exporter": "python",
   "pygments_lexer": "ipython2",
   "version": "2.7.6"
  }
 },
 "nbformat": 4,
 "nbformat_minor": 5
}
